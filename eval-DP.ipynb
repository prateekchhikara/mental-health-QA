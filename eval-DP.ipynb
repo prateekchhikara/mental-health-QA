{
 "cells": [
  {
   "cell_type": "code",
   "execution_count": 2,
   "metadata": {},
   "outputs": [],
   "source": [
    "import numpy as np\n",
    "\n",
    "def is_differentially_private(epsilon, delta, n, clip_norm, sensitivity):\n",
    "    \"\"\"\n",
    "    Check if a model satisfies differential privacy based on the epsilon, delta, and other parameters\n",
    "    used during training.\n",
    "    \"\"\"\n",
    "    \n",
    "    noise_std = 0.1\n",
    "    \n",
    "    # Calculate the total privacy budget\n",
    "    total_epsilon = 2 * epsilon  # account for both forward and backward passes\n",
    "\n",
    "    # Calculate the maximum amount of noise that can be added to gradients to meet the privacy budget\n",
    "    max_noise_std = clip_norm * np.sqrt(2 * total_epsilon / n) + sensitivity * np.sqrt(2 * np.log(1.25/delta)) / epsilon\n",
    "\n",
    "    # If the noise added during training is less than the maximum noise that can be added to meet the privacy budget,\n",
    "    # then the model satisfies differential privacy.\n",
    "    return True if noise_std <= max_noise_std else False\n",
    "\n",
    "\n"
   ]
  },
  {
   "cell_type": "code",
   "execution_count": 8,
   "metadata": {},
   "outputs": [
    {
     "data": {
      "text/plain": [
       "True"
      ]
     },
     "execution_count": 8,
     "metadata": {},
     "output_type": "execute_result"
    }
   ],
   "source": [
    "is_differentially_private(0.1, 1, 50000, 1, 1)"
   ]
  },
  {
   "cell_type": "code",
   "execution_count": null,
   "metadata": {},
   "outputs": [],
   "source": []
  }
 ],
 "metadata": {
  "kernelspec": {
   "display_name": "drrnNew",
   "language": "python",
   "name": "python3"
  },
  "language_info": {
   "codemirror_mode": {
    "name": "ipython",
    "version": 3
   },
   "file_extension": ".py",
   "mimetype": "text/x-python",
   "name": "python",
   "nbconvert_exporter": "python",
   "pygments_lexer": "ipython3",
   "version": "3.8.15"
  },
  "orig_nbformat": 4
 },
 "nbformat": 4,
 "nbformat_minor": 2
}
